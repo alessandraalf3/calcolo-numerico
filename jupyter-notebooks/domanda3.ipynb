{
 "cells": [
  {
   "cell_type": "markdown",
   "id": "86a05b90",
   "metadata": {},
   "source": [
    "# Domanda 3\n",
    "\n",
    "Dato un problema test di dimensioni variabili $$Ax = b$$\n",
    "\n",
    "la cui soluzione esatta è il vettore $\\bar x = (1, . . . , 1)^T$ e $b$ è il termine noto, ottenuto come $A\\bar x$ calcolare:\n",
    "\n",
    "- il numero di condizionamento della matrice $A$\n",
    "\n",
    "- la soluzione $x$ del sistema lineare $Ax = b$ mediante la fattorizzazione di Cholesky\n",
    "\n",
    "Considerare come matrice $A$ la matrice di Hilbert di dimensioni $n$ tra $2$ e $15$"
   ]
  },
  {
   "cell_type": "code",
   "execution_count": 6,
   "id": "7062d315",
   "metadata": {},
   "outputs": [
    {
     "name": "stdout",
     "output_type": "stream",
     "text": [
      "x_True.shape:  (5, 1) \n",
      "\n",
      "b.shape:  (5, 1) \n",
      "\n",
      "A.shape:  (5, 5) \n",
      "\n",
      "K(A)= 476607.25024100044 \n",
      "\n"
     ]
    }
   ],
   "source": [
    "import numpy as np\n",
    "from scipy.linalg import hilbert\n",
    "from numpy.linalg import cholesky\n",
    "\n",
    "n = np.random.randint(2, 16)\n",
    "\n",
    "A = A = hilbert(n)\n",
    "x_True = np.ones((n, 1))\n",
    "b = np.dot(A, x_True)\n",
    "\n",
    "\n",
    "print('x_True.shape: ', x_True.shape, '\\n' )\n",
    "\n",
    "print('b.shape: ', b.shape, '\\n' )\n",
    "\n",
    "print('A.shape: ', A.shape, '\\n' )\n",
    "\n",
    "print('K(A)=', np.linalg.cond(A), '\\n')"
   ]
  },
  {
   "cell_type": "code",
   "execution_count": 8,
   "id": "d64b7184",
   "metadata": {},
   "outputs": [
    {
     "name": "stdout",
     "output_type": "stream",
     "text": [
      "Soluzione calcolata con la fattorizzazione di Cholesky: \n",
      " [[1.]\n",
      " [1.]\n",
      " [1.]\n",
      " [1.]\n",
      " [1.]]\n"
     ]
    }
   ],
   "source": [
    "L = cholesky(A)\n",
    "my_x = np.linalg.solve(L.T, np.linalg.solve(L, b))\n",
    "print(f\"Soluzione calcolata con la fattorizzazione di Cholesky: \\n {my_x}\")"
   ]
  },
  {
   "cell_type": "code",
   "execution_count": null,
   "id": "b259c4d6",
   "metadata": {},
   "outputs": [],
   "source": []
  }
 ],
 "metadata": {
  "kernelspec": {
   "display_name": "Python 3 (ipykernel)",
   "language": "python",
   "name": "python3"
  },
  "language_info": {
   "codemirror_mode": {
    "name": "ipython",
    "version": 3
   },
   "file_extension": ".py",
   "mimetype": "text/x-python",
   "name": "python",
   "nbconvert_exporter": "python",
   "pygments_lexer": "ipython3",
   "version": "3.11.5"
  }
 },
 "nbformat": 4,
 "nbformat_minor": 5
}
