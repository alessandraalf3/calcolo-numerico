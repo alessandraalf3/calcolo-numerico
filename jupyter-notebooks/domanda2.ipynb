{
 "cells": [
  {
   "cell_type": "markdown",
   "id": "7e7a9b80",
   "metadata": {},
   "source": [
    "\n",
    "# Domanda 2\n",
    "\n",
    "Dato un problema test di dimensioni variabili $$Ax = b$$\n",
    "\n",
    "la cui soluzione esatta è il vettore $\\bar x = (1, . . . , 1)^T$ e $b$ è il termine noto, ottenuto come $A\\bar x$ calcolare:\n",
    "- il numero di condizionamento della matrice $A$\n",
    "- la soluzione $x$ del sistema lineare $Ax = b$ mediante la fattorizzazione di Cholesky\n",
    "\n",
    "Considerare come matrice $A$ la matrice tridiagonale simmetrica definita positiva, avente sulla diagonale\n",
    "principale elementi uguali a $9$ ed elementi nella sopra e sottodiagonale uguali a $-4$, con $n$ variabile."
   ]
  },
  {
   "cell_type": "code",
   "execution_count": 11,
   "id": "8d0ce63b",
   "metadata": {},
   "outputs": [
    {
     "name": "stdout",
     "output_type": "stream",
     "text": [
      "A.shape:  (16, 16) \n",
      "\n",
      "K(A)= 14.842069319208907 \n",
      "\n",
      "Soluzione calcolata con la fattorizzazione di Cholesky: \n",
      " [[1.]\n",
      " [1.]\n",
      " [1.]\n",
      " [1.]\n",
      " [1.]\n",
      " [1.]\n",
      " [1.]\n",
      " [1.]\n",
      " [1.]\n",
      " [1.]\n",
      " [1.]\n",
      " [1.]\n",
      " [1.]\n",
      " [1.]\n",
      " [1.]\n",
      " [1.]]\n"
     ]
    }
   ],
   "source": [
    "import numpy as np\n",
    "import scipy\n",
    "import scipy.linalg\n",
    "from numpy.linalg import cholesky\n",
    "\n",
    "n = np.random.randint(10, 101)\n",
    "\n",
    "A = A = np.diag(9 * np.ones(n)) + np.diag(-4 * np.ones(n-1), k=1) + np.diag(-4 * np.ones(n-1), k=-1)\n",
    "x_True = np.ones((n, 1))\n",
    "b = A @ x_True\n",
    "\n",
    "\n",
    "print('A.shape: ', A.shape, '\\n' )\n",
    "\n",
    "print('K(A)=', np.linalg.cond(A), '\\n')\n",
    "\n",
    "L = cholesky(A)\n",
    "my_x = np.linalg.solve(L.T, np.linalg.solve(L, b))\n",
    "print(f\"Soluzione calcolata con la fattorizzazione di Cholesky: \\n {my_x}\")"
   ]
  },
  {
   "cell_type": "code",
   "execution_count": null,
   "id": "356867eb",
   "metadata": {},
   "outputs": [],
   "source": []
  }
 ],
 "metadata": {
  "kernelspec": {
   "display_name": "Python 3 (ipykernel)",
   "language": "python",
   "name": "python3"
  },
  "language_info": {
   "codemirror_mode": {
    "name": "ipython",
    "version": 3
   },
   "file_extension": ".py",
   "mimetype": "text/x-python",
   "name": "python",
   "nbconvert_exporter": "python",
   "pygments_lexer": "ipython3",
   "version": "3.11.5"
  }
 },
 "nbformat": 4,
 "nbformat_minor": 5
}
